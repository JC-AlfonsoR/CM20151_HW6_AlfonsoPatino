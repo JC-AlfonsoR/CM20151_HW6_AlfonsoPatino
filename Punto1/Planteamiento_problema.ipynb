{
 "cells": [
  {
   "cell_type": "code",
   "execution_count": 2,
   "metadata": {
    "collapsed": false
   },
   "outputs": [
    {
     "name": "stdout",
     "output_type": "stream",
     "text": [
      "Populating the interactive namespace from numpy and matplotlib\n"
     ]
    }
   ],
   "source": [
    "%pylab inline"
   ]
  },
  {
   "cell_type": "markdown",
   "metadata": {},
   "source": [
    "# Simulación de Cuatro Cuerpos"
   ]
  },
  {
   "cell_type": "markdown",
   "metadata": {},
   "source": [
    "La solución propuesta consiste en hacer el cálculo de la fuerza de gravedad para un solo cuerpo asumiendo que la posición de los otros tres se mantiene cconstante. Esto se lograría haciendo el intervalo de tiempo muy pequeño. Se repite este procedimiento para los cuatro cuerpos y se va avanzando en el tiempo hasta llegar al momento deseado."
   ]
  },
  {
   "cell_type": "markdown",
   "metadata": {},
   "source": [
    "##Planteamiento de ecuaciones\n",
    "Para lograr resolver el sistema de ecuaciones primero se debe hacer una separación de las variables para uno de los cuerpos y así poder usar el método de Runge-Kutta. Para lograr esto se usará el cambio de variable:\n",
    "\n",
    "$$y_{0} = \\vec{r_{cuerpo}}$$\n",
    "$$y_{1}' = y_{0} $$\n"
   ]
  },
  {
   "cell_type": "markdown",
   "metadata": {},
   "source": [
    "Haciendo esta sustitución, y teniendo en cuenta la ecuación que describe la interacción gravitacional, el sistema de ecuaciones se reduce a:\n",
    "$$y_{1}' = G \\left[ \\frac{m_{2}(y_{0}-y_{2})}{{\\lVert y_{0}-y_{2}\\rVert}^3} + \\frac{m_{3}(y_{0}-y_{3})}{{\\lVert y_{0}-y_{3}\\rVert}^3} + \\frac{m_{4}(y_{0}-y_{4})}{{\\lVert y_{0}-y_{4}\\rVert}^3}\\right]$$\n",
    "\n",
    "en donde los subíndices 2, 3, 4 corresponden a los vectores de posicion y las masas de los otros tres cuerpos.\n",
    "\n",
    "Esta ecuación para cada paso de tiempo se debe resolver para las tres coordenadas para así poder actualizar todas las coordenadas de la partícula."
   ]
  },
  {
   "cell_type": "markdown",
   "metadata": {
    "collapsed": false
   },
   "source": [
    "Con la posicion obtenida después de dar el paso, se actualizan las posiciones $x$, $y$ y $z$ de la particula que se movió. Estas coordenadas se guardan en vectores para posteriormente crear el csv con las posiciones de cada uno de los cuerpos en el intervalo de tiempo "
   ]
  },
  {
   "cell_type": "markdown",
   "metadata": {},
   "source": [
    "##Creación de Gráficas\n",
    "\n",
    "Para la creación de graficas se lee el archivo .csv creado y de esta manera se puede hacer fácilmente una grafica de las posiciones de los cuatro cuerpos en el intervalo de tiempo."
   ]
  }
 ],
 "metadata": {
  "kernelspec": {
   "display_name": "Python 2",
   "language": "python",
   "name": "python2"
  },
  "language_info": {
   "codemirror_mode": {
    "name": "ipython",
    "version": 2
   },
   "file_extension": ".py",
   "mimetype": "text/x-python",
   "name": "python",
   "nbconvert_exporter": "python",
   "pygments_lexer": "ipython2",
   "version": "2.7.9"
  }
 },
 "nbformat": 4,
 "nbformat_minor": 0
}
