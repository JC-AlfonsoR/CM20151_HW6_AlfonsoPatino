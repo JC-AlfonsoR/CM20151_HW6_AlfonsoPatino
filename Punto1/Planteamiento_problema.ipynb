{
 "metadata": {
  "name": "",
  "signature": "sha256:10390140bcb20bb5f0dd12524fde8c6045ce9b46f28f1038c93d1291c373d94f"
 },
 "nbformat": 3,
 "nbformat_minor": 0,
 "worksheets": [
  {
   "cells": [
    {
     "cell_type": "code",
     "collapsed": false,
     "input": [
      "%pylab inline"
     ],
     "language": "python",
     "metadata": {},
     "outputs": [
      {
       "output_type": "stream",
       "stream": "stdout",
       "text": [
        "Populating the interactive namespace from numpy and matplotlib\n"
       ]
      }
     ],
     "prompt_number": 1
    },
    {
     "cell_type": "heading",
     "level": 1,
     "metadata": {},
     "source": [
      "Simulaci\u00f3n de Cuatro Cuerpos"
     ]
    },
    {
     "cell_type": "markdown",
     "metadata": {},
     "source": [
      "##Separaci\u00f3n de ecuaciones\n",
      "Para lograr resolver el sistema de ecuaciones primero se debe hacer una separaci\u00f3n de las variables de la aceleraci\u00f3n y la posici\u00f3n para cada cuerpo. Las sustituciones que se har\u00e1n son las siguientes:\n",
      "\n",
      "Para el sol:\n",
      "$$y_{0} = \\lVert\\vec{r_{sol}}\\rVert$$\n",
      "$$y_{1}' = y_{0} $$\n",
      "\n",
      "Para la tierra:\n",
      "$$y_{2} = \\lVert\\vec{r_{tierra}}\\rVert$$\n",
      "$$y_{3}' = y_{2} $$\n",
      "\n",
      "Para la luna:\n",
      "$$y_{4} = \\lVert\\vec{r_{luna}}\\rVert$$\n",
      "$$y_{5}' = y_{4} $$\n",
      "\n",
      "Para el asteroide:\n",
      "$$y_{6} = \\lVert\\vec{r_{ast}}\\rVert$$\n",
      "$$y_{7}' = y_{6} $$"
     ]
    },
    {
     "cell_type": "markdown",
     "metadata": {},
     "source": [
      "Haciendo esta sustituci\u00f3n, y teniendo en cuenta la ecuaci\u00f3n que describe la interacci\u00f3n gravitacional, el sistema de ecuaciones se reduce a:\n",
      "$$y_{1} = G \\right( \\frac{m_{tierra}(y_{0}-y_{2})}{}\\left)$$"
     ]
    },
    {
     "cell_type": "code",
     "collapsed": false,
     "input": [],
     "language": "python",
     "metadata": {},
     "outputs": []
    }
   ],
   "metadata": {}
  }
 ]
}