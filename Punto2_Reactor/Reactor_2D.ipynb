{
 "cells": [
  {
   "cell_type": "markdown",
   "metadata": {},
   "source": [
    "#Difusion en Reactor Tubular\n",
    "J. Camilo Alfonso R., Carlos M. Patiño"
   ]
  },
  {
   "cell_type": "code",
   "execution_count": 1,
   "metadata": {
    "collapsed": false
   },
   "outputs": [
    {
     "name": "stdout",
     "output_type": "stream",
     "text": [
      "Populating the interactive namespace from numpy and matplotlib\n"
     ]
    }
   ],
   "source": [
    "%pylab inline"
   ]
  },
  {
   "cell_type": "markdown",
   "metadata": {},
   "source": [
    "Las ecuaciones que corresponden al reactor son:\n",
    "$$c_t=-u(r)c_z+D(c_{zz}+c_{rr}+\\frac{1}{r}c_r)-r(c,T)$$\n",
    "$$T_t=-u(r)T_z+\\frac{\\lambda}{\\rho c_p}(T_{zz}+T_{rr}+\\frac{1}{r}T_r)+\\frac{-\\Delta H}{\\rho c_p}r(c,t)$$"
   ]
  },
  {
   "cell_type": "markdown",
   "metadata": {},
   "source": [
    "## En el centro del reactor\n",
    "$$r=0$$\n",
    "$$u(r=0)=u_{max}\\left(1-\\left(\\frac{0}{R}\\right)^2\\right)=u_{max}$$\n",
    "Los siguientes terminos se puede recalcular usando el teorema de L'Hopital\n",
    "$$\\lim_{r\\rightarrow0}{\\frac{c_r}{r}=\\frac{0}{0}}\\rightarrow \\lim_{r\\rightarrow0}{\\frac{c_r}{r}}=\\lim_{r\\rightarrow0}{\\frac{\\delta c_r/ \\delta r}{\\delta r/ \\delta r}}=c_r$$\n",
    "$$\\lim_{r\\rightarrow0}{\\frac{T_r}{r}=\\frac{0}{0}}\\rightarrow \\lim_{r\\rightarrow0}{\\frac{T_r}{r}}=\\lim_{r\\rightarrow0}{\\frac{\\delta T_r/ \\delta r}{\\delta r/ \\delta r}}=T_r$$\n",
    "\n",
    "\n",
    "Asi, se obtienen las ecuaciones:\n",
    "$$c_t(r=0)=-u_{max}c_z+D(c_{zz}+2c_{rr}+)-r(c,T)$$\n",
    "$$T_t(r=0)=-u_{max}T_z+\\frac{\\lambda}{\\rho c_p}(T_{zz}+2T_{rr}+)+\\frac{-\\Delta H}{\\rho c_p}r(c,t)$$"
   ]
  },
  {
   "cell_type": "markdown",
   "metadata": {},
   "source": [
    "## Planteamiento Diferencias Finitas\n",
    "Las ecuaciones que corresponden al reactor son:\n",
    "$$c_t=-u(r)c_z+D(c_{zz}+c_{rr}+\\frac{1}{r}c_r)-r(c,T)$$\n",
    "$$T_t=-u(r)T_z+\\frac{\\lambda}{\\rho c_p}(T_{zz}+T_{rr}+\\frac{1}{r}T_r)+\\frac{-\\Delta H}{\\rho c_p}r(c,t)$$\n",
    "\n",
    "Sabiendo que las derivadas se pueden discretizar de la forma:\n",
    "$$u_{i,j}^{n}=u(t=n,z=i,r=j)$$\n",
    "$$\\frac{\\delta u}{\\delta t} = \\frac{u_{i,j}^{n+1}-u_{i,j}^{n}}{\\Delta t}$$\n",
    "$$\\frac{\\delta^2u}{\\delta x^2}=\\frac{u_{i+1,j}^{n}-2u_{i,j}^{n}+u_{i-1,j}^{n}}{\\Delta x^2}$$\n",
    "\n",
    "####Esquema Explicito\n",
    "Se logra obtener el esquema explicito para $c_{i,j}^{n+1}$ y $T_{i,j}^{n+1}$\n",
    "$$c_{i,j}^{n+1} = c_{i,j}^{n} -\\frac{\\Delta t}{\\Delta z}u(r)(c_{i+1,j}^{n}-c_{i,j}^{n}) + D\\Delta t \\left(\\frac{c_{i+1,j}^{n}-2c_{i,j}^{n}+c_{i-1,j}^{n}}{\\Delta z^2} + \\frac{c_{i,j+1}^{n}-2c_{i,j}^{n}+c_{i,j-1}^{n}}{\\Delta r^2} + \\frac{c_{i,j+1}^{n}-c_{i,j}^{n}}{r\\Delta r}\\right)-r\\left(c_{i,j}^{n},T_{i,j}^{n}\\right)$$\n",
    "\n",
    "$$T_{i,j}^{n+1} = T_{i,j}^{n} -\\frac{\\Delta t}{\\Delta z}u(r)(T_{i+1,j}^{n}-T_{i,j}^{n}) + \\Delta t\\frac{\\lambda}{\\rho c_p} \\left(\\frac{T_{i+1,j}^{n}-2T_{i,j}^{n}+T_{i-1,j}^{n}}{\\Delta z^2} + \\frac{T_{i,j+1}^{n}-2T_{i,j}^{n}+T_{i,j-1}^{n}}{\\Delta r^2} + \\frac{T_{i,j+1}^{n}-T_{i,j}^{n}}{r\\Delta r}\\right)+\\Delta t\\frac{-\\Delta H}{\\rho c_p}r\\left(c_{i,j}^{n},T_{i,j}^{n}\\right)$$"
   ]
  },
  {
   "cell_type": "markdown",
   "metadata": {},
   "source": [
    "####Descripcion del sistema\n",
    "Condiciones iniciales\n",
    "$$c(z,r,0)=c_0(z,r)$$\n",
    "$$T(z,r,0)=T_0(z,r)$$\n",
    "\n",
    "Simetria Radial sin Transferencia de Masa\n",
    "$$c_r(z,0,t)=\\frac{c_{i,0+1}^{n}-c_{i,0}^{n}}{\\Delta r}=0$$\n",
    "$$\\rightarrow c_{i,0}^{n}=c_{i,1}^{n}$$\n",
    "\n",
    "$$T_r(z,0,t)=\\frac{T_{j,0+1}^{n}-T_{j,0}^{n}}{\\Delta r}=0$$\n",
    "$$\\rightarrow T_{j,0}^{n}=T_{j,1}^{n}$$\n",
    "\n",
    "$$c_r(z,R,t)=\\frac{c_{j,R}^{n}-c_{j,R-1}^{n}}{\\Delta r}=0$$\n",
    "$$\\rightarrow c_{j,R}^{n}=c_{j,R-1}^{n}$$\n",
    "\n",
    "Intercambio termico con la pared\n",
    "$$T_r(z,R,t)=\\frac{T_{j,R}^{n}-T_{j,R-1}^{n}}{\\Delta r}=\\frac{h}{\\lambda}(T_w-T(z,R,t))$$\n",
    "$$\\rightarrow T_{i,R}^{n}=T_{i,R-1}^{n}+\\Delta r \\frac{h}{\\lambda}(T_w-T_{i,R}^{n})$$\n",
    "\n",
    "Concentracion y Temperatura constantes al **inicio** del tubo\n",
    "$$c(0,r,t)=c_{0,j}^{n}=c_{in}$$\n",
    "$$T(0,r,t)=T_{0,j}^{n}=T_{in}$$\n",
    "\n",
    "Difusion cero a la salida\n",
    "$$c_z(L,r,t)=\\frac{c_{L,r}^{n}-c_{L-1,r}^{n}}{\\Delta z}=0$$\n",
    "$$\\rightarrow c_{L,r}^{n} = c_{L-1,r}^{n}$$\n",
    "\n",
    "$$T_z(L,r,t)=\\frac{T_{L,i}^{n}-T_{L-1,i}^{n}}{\\Delta z}=0$$\n",
    "$$\\rightarrow T_{L,r}^{n} = T_{L-1,r}^{n}$$"
   ]
  },
  {
   "cell_type": "markdown",
   "metadata": {
    "collapsed": false
   },
   "source": [
    "##Implementacion Diferencias Finitas\n",
    "###Definir Parametros del problema"
   ]
  },
  {
   "cell_type": "code",
   "execution_count": 403,
   "metadata": {
    "collapsed": false
   },
   "outputs": [],
   "source": [
    "# Parametros (Unidades en Sistema internacional)\n",
    "T_in = 20+273  # Temperatura a la entrada del Reactor\n",
    "c_in = 0.5     # Concentracion a la entrada\n",
    "\n",
    "h = 1   # Intercambio termico en la pared\n",
    "h2 = 1  #\n",
    "T_w = 100 #\n",
    "\n",
    "D = 1 # \n",
    "rho = 1000 # Densidad del fluido (Agua)\n",
    "c_p = 4181.3 # Calor especifico del agua a 298 °K [J/gK]\n",
    "mu = 1.0e-3  # Viscocidad del agua\n",
    "\n",
    "Delta_H = -1*1.0; # Entalpia de la reaccion\n",
    "u_max = 0.05; # Velocidad maxima del fluido\n",
    "R = 0.02;     # Radio Maximo\n",
    "\n",
    "n_t = 100 # Numero de pasos en el tiempo\n",
    "t_f = 1  # tiempo final\n",
    "t = linspace(0,t_f,n_t) # vector de tiempo\n",
    "d_t = t[1]-t[0] # paso de tiempo\n",
    "# Falta tener en cuenta las condiciones de convergencia ***\n",
    "\n",
    "n_r = 10\n",
    "r = linspace(1e-2,R,n_r) # El radio solo se evalua en la parte psotiva porque el comportamiento de las funciones respecto \n",
    "                        # al radio es simetrico\n",
    "d_r = r[1] - r[0]\n",
    "\n",
    "n_z = 50\n",
    "L = 30 # Longitud del tubo\n",
    "z = linspace(0,L,n_z)\n",
    "d_z = z[1]-z[0]\n",
    "\n",
    "k0 = 10 # parametro\n",
    "E = 10 # parametro\n",
    "\n",
    "zz,rr = meshgrid(z,r,sparse=False) # Malla"
   ]
  },
  {
   "cell_type": "markdown",
   "metadata": {},
   "source": [
    "###Funciones"
   ]
  },
  {
   "cell_type": "code",
   "execution_count": 404,
   "metadata": {
    "collapsed": false
   },
   "outputs": [],
   "source": [
    "def U_(r):\n",
    "    # Velocidad en funcion del radio\n",
    "    return u_max*(1-(r/R)**2)\n",
    "#Verificar funcion u(r)\n",
    "#r = linspace(-R,R,20)\n",
    "#plot(r,U_(r))\n",
    "# Funcion Verificada!\n",
    "\n",
    "def F_r(c,T):\n",
    "    return k0*exp(-E/(R*T))*c**2\n",
    "    # Verificar si el 'R' de la ecuacion es el R_max del tubo o si es R constante de los gases\n",
    "\n",
    "#Tener cuidado con el tamaño de los arreglos rr y zz\n",
    "def c_t0(z,r):\n",
    "    return zeros(shape(z)) # Condicion en tiempo 0\n",
    "    return z/10+r**2\n",
    "\n",
    "def T_t0(z,r):\n",
    "    return zeros(shape(z))\n",
    "    #return z/10+0.5*r**3\n",
    "    \n",
    "def is_laminar(rho, mu, v_mean, d):\n",
    "    # Calcula el numero de Reynolds para el flujo definido por:\n",
    "    # Densidad rho\n",
    "    # Viscocidad mu\n",
    "    # Velocidad media v_mean\n",
    "    # confinado en tubo de diametro d\n",
    "    #\n",
    "    # Devuelve True o False\n",
    "    Reynolds = rho*v_mean*d/mu\n",
    "    if Reynolds < 2300:\n",
    "        return True,round(Reynolds)\n",
    "    else: \n",
    "        return False,round(Reynolds)"
   ]
  },
  {
   "cell_type": "code",
   "execution_count": 405,
   "metadata": {
    "collapsed": false
   },
   "outputs": [],
   "source": [
    "def solver(nt,zz,rr):\n",
    "    # c,T = solver(nt)\n",
    "    # Resuelve ecuaciones de concentracion c y temperatura T para el reactor\n",
    "    # discretizado en posiciones zz y rr \n",
    "    #\n",
    "    c = c_t0(zz,rr)\n",
    "    T = T_t0(zz,rr)\n",
    "    \n",
    "    for i in range(nt+1):\n",
    "        cn = c.copy()\n",
    "        Tn = T.copy()\n",
    "\n",
    "        # Los valores de los bordes se calculan con condiciones de frontera\n",
    "        c0 = cn[1:-1,1:-1]\n",
    "        c1 = -d_t/d_z*U_(rr[1:-1,1:-1])*(cn[1:-1,2:] - cn[1:-1,1:-1])\n",
    "        c2 = (cn[1:-1,2:] - 2*cn[1:-1,1:-1] + cn[1:-1,0:-2])/d_z**2\n",
    "        c3 = (cn[2:,1:-1] - 2*cn[1:-1,1:-1] + cn[0:-2,1:-1])/d_r**2\n",
    "        c4 = (cn[2:,1:-1] - cn[1:-1,1:-1])/(d_r*rr[1:-1,1:-1])\n",
    "        c5 = -F_r(cn[1:-1,1:-1], Tn[1:-1,1:-1])\n",
    "        c[1:-1,1:-1] = c0 + c1 + D*d_t*(c2+c3+c4) + c5\n",
    "\n",
    "        # Los valores de los bordes se calculan con condiciones de frontera\n",
    "        T0 = Tn[1:-1,1:-1]\n",
    "        T1 = -d_t/d_z*U_(rr[1:-1,1:-1])*(Tn[1:-1,2:] - Tn[1:-1,1:-1])\n",
    "        T2 = (Tn[1:-1,2:] - 2*Tn[1:-1,1:-1] + Tn[1:-1,0:-2])/d_z**2\n",
    "        T3 = (Tn[2:,1:-1] - 2*Tn[1:-1,1:-1] + Tn[0:-2,1:-1])/d_r**2\n",
    "        T4 = (Tn[2:,1:-1] - Tn[1:-1,1:-1])/(d_r*rr[1:-1,1:-1])\n",
    "        T5 = d_t*Delta_H/(rho*c_p)*F_r(cn[1:-1,1:-1], Tn[1:-1,1:-1])\n",
    "        T[1:-1,1:-1] = T0 + T1 + d_t*h2/(rho*c_p)*(T2+T3+T4) + T5\n",
    "\n",
    "        # Aplicar Condiciones de Frontera\n",
    "        # Simetria Radial sin transferencia de Masa\n",
    "        c[0,:] = c[1,:]\n",
    "        T[0,:] = T[1,:]\n",
    "        c[-1,:] = c[-2,:]\n",
    "        # Intercambio Termico en la pared\n",
    "        T[-1,:] = T[-2,:] + d_r*h/h2*(T_w-T[-1,:])\n",
    "\n",
    "        # Concentracion y Temperatura constantes al inicio del tubo\n",
    "        c[:,0] = c_in\n",
    "        T[:,0] = T_in\n",
    "\n",
    "        # Difusion cero a la salida\n",
    "        c[:,-1] = c[:,-2]\n",
    "        T[:,-1] = T[:,-2]\n",
    "    return c,T"
   ]
  },
  {
   "cell_type": "markdown",
   "metadata": {},
   "source": [
    "###Iplementacion"
   ]
  },
  {
   "cell_type": "code",
   "execution_count": 407,
   "metadata": {
    "collapsed": false
   },
   "outputs": [
    {
     "name": "stdout",
     "output_type": "stream",
     "text": [
      "0.011445473251\n",
      "True 458.0\n"
     ]
    }
   ],
   "source": [
    "#v_mean = sum(U_(r)*d_r)/R\n",
    "v_mean = sum(U_(r)*d_r)/R\n",
    "print(v_mean)\n",
    "rta,Reynolds = is_laminar(rho, mu, v_mean, 2*R)\n",
    "print(rta,Reynolds)"
   ]
  },
  {
   "cell_type": "code",
   "execution_count": 422,
   "metadata": {
    "collapsed": false
   },
   "outputs": [
    {
     "data": {
      "text/plain": [
       "<matplotlib.colorbar.Colorbar at 0x7ff4250e59b0>"
      ]
     },
     "execution_count": 422,
     "metadata": {},
     "output_type": "execute_result"
    },
    {
     "data": {
      "image/png": "[encoded data removed]",
      "text/plain": [
       "<matplotlib.figure.Figure at 0x7ff4251ab8d0>"
      ]
     },
     "metadata": {},
     "output_type": "display_data"
    }
   ],
   "source": [
    "c_init = c_t0(zz,rr)\n",
    "T_init = T_t0(zz,rr)\n",
    "c_init[:,0] = c_in\n",
    "T_init[:,0] = T_in\n",
    "        \n",
    "pcolor(zz,rr,T_init)\n",
    "colorbar()"
   ]
  },
  {
   "cell_type": "code",
   "execution_count": 437,
   "metadata": {
    "collapsed": false
   },
   "outputs": [
    {
     "name": "stderr",
     "output_type": "stream",
     "text": [
      "/home/j-camilo/anaconda3/lib/python3.4/site-packages/IPython/kernel/__main__.py:10: RuntimeWarning: divide by zero encountered in true_divide\n",
      "/home/j-camilo/anaconda3/lib/python3.4/site-packages/IPython/kernel/__main__.py:10: RuntimeWarning: overflow encountered in square\n",
      "/home/j-camilo/anaconda3/lib/python3.4/site-packages/IPython/kernel/__main__.py:10: RuntimeWarning: invalid value encountered in multiply\n"
     ]
    },
    {
     "data": {
      "text/plain": [
       "<matplotlib.colorbar.Colorbar at 0x7ff4243f92b0>"
      ]
     },
     "execution_count": 437,
     "metadata": {},
     "output_type": "execute_result"
    },
    {
     "name": "stderr",
     "output_type": "stream",
     "text": [
      "/home/j-camilo/anaconda3/lib/python3.4/site-packages/matplotlib/colors.py:584: RuntimeWarning: invalid value encountered in less\n",
      "  cbook._putmask(xa, xa < 0.0, -1)\n"
     ]
    },
    {
     "data": {
      "image/png": "[encoded data removed]",
      "text/plain": [
       "<matplotlib.figure.Figure at 0x7ff42452f898>"
      ]
     },
     "metadata": {},
     "output_type": "display_data"
    }
   ],
   "source": [
    "c,T = solver(60,zz,rr)\n",
    "pcolor(zz,rr,T); colorbar()"
   ]
  },
  {
   "cell_type": "markdown",
   "metadata": {
    "collapsed": true
   },
   "source": [
    "###Comentarios JC\n",
    "Considero que el codigo esta bien implementado.\n",
    "\n",
    "Considero que el error principal esta en la magnitud de los parametros invloucrados\n",
    "\n",
    "Creo que se puede mejorar la solucion si se implementa el metodo de diferencias finitas con la derivda _backwards_ en lugar de _frontward_. Esto de debe a que se busca propagar las propiedades fisicas a partir la informacion de las particulas anteriores (Es decir el flujo avanza de _z=0_ a _z=L_).\n",
    "\n",
    "####Referencias\n",
    "[Forero-PDE](http://nbviewer.ipython.org/github/forero/ComputationalMethods/blob/master/notes/11.PDEs/PDE.ipynb)"
   ]
  },
  {
   "cell_type": "code",
   "execution_count": null,
   "metadata": {
    "collapsed": true
   },
   "outputs": [],
   "source": []
  }
 ],
 "metadata": {
  "kernelspec": {
   "display_name": "Python 3",
   "language": "python",
   "name": "python3"
  },
  "language_info": {
   "codemirror_mode": {
    "name": "ipython",
    "version": 3
   },
   "file_extension": ".py",
   "mimetype": "text/x-python",
   "name": "python",
   "nbconvert_exporter": "python",
   "pygments_lexer": "ipython3",
   "version": "3.4.3"
  }
 },
 "nbformat": 4,
 "nbformat_minor": 0
}
