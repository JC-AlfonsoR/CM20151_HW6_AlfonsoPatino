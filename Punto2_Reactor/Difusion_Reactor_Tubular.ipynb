{
 "metadata": {
  "name": ""
 },
 "nbformat": 3,
 "nbformat_minor": 0,
 "worksheets": [
  {
   "cells": [
    {
     "cell_type": "markdown",
     "metadata": {},
     "source": [
      "#Difusion en Reactor Tubular"
     ]
    },
    {
     "cell_type": "code",
     "collapsed": false,
     "input": [
      "#%pylab inline"
     ],
     "language": "python",
     "metadata": {},
     "outputs": [],
     "prompt_number": 3
    },
    {
     "cell_type": "markdown",
     "metadata": {},
     "source": [
      "Las ecuaciones que corresponden al reactor son:\n",
      "$$c_t=-u(r)c_z+D(c_{zz}+c_{rr}+\\frac{1}{r}c_r)-r(c,T)$$\n",
      "$$T_t=-u(r)T_z+\\frac{\\lambda}{\\rho c_p}(T_{zz}+T_{rr}+\\frac{1}{r}T_r)+\\frac{-\\Delta H}{\\rho c_p}r(c,t)$$"
     ]
    },
    {
     "cell_type": "markdown",
     "metadata": {},
     "source": [
      "## En el centro del reactor\n",
      "$$r=0$$\n",
      "$$u(r=0)=u_{max}\\left(1-\\left(\\frac{0}{R}\\right)^2\\right)=u_{max}$$\n",
      "Los siguientes terminos se puede recalcular usando el teorema de L'Hopital\n",
      "$$\\lim_{r\\rightarrow0}{\\frac{c_r}{r}=\\frac{0}{0}}\\rightarrow \\lim_{r\\rightarrow0}{\\frac{c_r}{r}}=\\lim_{r\\rightarrow0}{\\frac{\\delta c_r/ \\delta r}{\\delta r/ \\delta r}}=c_r$$\n",
      "$$\\lim_{r\\rightarrow0}{\\frac{T_r}{r}=\\frac{0}{0}}\\rightarrow \\lim_{r\\rightarrow0}{\\frac{T_r}{r}}=\\lim_{r\\rightarrow0}{\\frac{\\delta T_r/ \\delta r}{\\delta r/ \\delta r}}=T_r$$\n",
      "\n",
      "\n",
      "Asi, se obtienen las ecuaciones:\n",
      "$$c_t(r=0)=-u_{max}c_z+D(c_{zz}+2c_{rr}+)-r(c,T)$$\n",
      "$$T_t(r=0)=-u_{max}T_z+\\frac{\\lambda}{\\rho c_p}(T_{zz}+2T_{rr}+)+\\frac{-\\Delta H}{\\rho c_p}r(c,t)$$"
     ]
    },
    {
     "cell_type": "markdown",
     "metadata": {},
     "source": [
      "## Planteamiento Diferencias Finitas\n",
      "Las ecuaciones que corresponden al reactor son:\n",
      "$$c_t=-u(r)c_z+D(c_{zz}+c_{rr}+\\frac{1}{r}c_r)-r(c,T)$$\n",
      "$$T_t=-u(r)T_z+\\frac{\\lambda}{\\rho c_p}(T_{zz}+T_{rr}+\\frac{1}{r}T_r)+\\frac{-\\Delta H}{\\rho c_p}r(c,t)$$\n",
      "\n",
      "Sabiendo que las derivadas se pueden discretizar de la forma:\n",
      "$$u_{i,j}^{n}=u(t=n,z=i,r=j)$$\n",
      "$$\\frac{\\delta u}{\\delta t} = \\frac{u_{i,j}^{n+1}-u_{i,j}^{n}}{\\Delta t}$$\n",
      "$$\\frac{\\delta^2u}{\\delta x^2}=\\frac{u_{i+1,j}^{n}-2u_{i,j}^{n}+u_{i-1,j}^{n}}{\\Delta x^2}$$\n",
      "\n",
      "Se logra obtener el esquema explicito para $c_{i,j}^{n+1}$ y $T_{i,j}^{n+1}$\n",
      "$$c_{i,j}^{n+1} = c_{i,j}^{n} -\\frac{\\Delta t}{\\Delta z}u(j)(c_{i+1,j}^{n}-c_{i,j}^{n}) + D\\Delta t \\left(\\frac{c_{i+1,j}^{n}-2c_{i,j}^{n}+c_{i-1,j}^{n}}{\\Delta z^2} + \\frac{c_{i,j+1}^{n}-2c_{i,j}^{n}+c_{i,j-1}^{n}}{\\Delta r^2} + \\frac{c_{i,j+1}^{n}-c_{i,j}^{n}}{j\\Delta r}\\right)-r\\left(c_{i,j}^{n},T_{i,j}^{n}\\right)$$\n",
      "\n",
      "$$T_{i,j}^{n+1} = T_{i,j}^{n} -\\frac{\\Delta t}{\\Delta z}u(j)(T_{i+1,j}^{n}-T_{i,j}^{n}) + \\Delta t\\frac{\\lambda}{\\rho c_p} \\left(\\frac{T_{i+1,j}^{n}-2T_{i,j}^{n}+T_{i-1,j}^{n}}{\\Delta z^2} + \\frac{T_{i,j+1}^{n}-2T_{i,j}^{n}+T_{i,j-1}^{n}}{\\Delta r^2} + \\frac{T_{i,j+1}^{n}-T_{i,j}^{n}}{j\\Delta r}\\right)+\\Delta t\\frac{-\\Delta H}{\\rho c_p}r\\left(c_{i,j}^{n},T_{i,j}^{n}\\right)$$"
     ]
    },
    {
     "cell_type": "code",
     "collapsed": false,
     "input": [],
     "language": "python",
     "metadata": {},
     "outputs": []
    }
   ],
   "metadata": {}
  }
 ]
}