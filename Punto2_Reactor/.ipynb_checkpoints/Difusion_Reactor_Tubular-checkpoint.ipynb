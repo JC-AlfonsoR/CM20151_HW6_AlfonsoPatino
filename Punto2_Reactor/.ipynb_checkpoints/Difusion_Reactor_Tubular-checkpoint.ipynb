{
 "metadata": {
  "name": ""
 },
 "nbformat": 3,
 "nbformat_minor": 0,
 "worksheets": [
  {
   "cells": [
    {
     "cell_type": "markdown",
     "metadata": {},
     "source": [
      "#Difusion en Reactor Tubular"
     ]
    },
    {
     "cell_type": "code",
     "collapsed": false,
     "input": [
      "%pylab inline"
     ],
     "language": "python",
     "metadata": {},
     "outputs": [
      {
       "output_type": "stream",
       "stream": "stdout",
       "text": [
        "Populating the interactive namespace from numpy and matplotlib\n"
       ]
      }
     ],
     "prompt_number": 2
    },
    {
     "cell_type": "markdown",
     "metadata": {},
     "source": [
      "Las ecuaciones que corresponden al reaactor son:\n",
      "$$c_t=-u(r)c_z+D(c_{zz}+c_{rr}+\\frac{1}{r}c_r)-r(c,T)$$\n",
      "$$T_t=-u(r)T_z+\\frac{\\lambda}{\\rho c_p}(T_{zz}+T_{rr}+\\frac{1}{r}T_r)+\\frac{-\\Delta H}{\\rho c_p}r(c,t)$$"
     ]
    },
    {
     "cell_type": "markdown",
     "metadata": {},
     "source": [
      "## En el centro del reactor\n",
      "$$r=0$$\n",
      "$$u(r=0)=u_{max}\\left(1-\\left(\\frac{0}{R}\\right)^2\\right)=u_{max}$$\n",
      "Los siguientes terminos se puede recalcular usando el teorema de L'Hopital\n",
      "$$\\lim_{r\\rightarrow0}{\\frac{c_r}{r}=\\frac{0}{0}}\\rightarrow \\lim_{r\\rightarrow0}{\\frac{c_r}{r}}=\\lim_{r\\rightarrow0}{\\frac{\\delta c_r/ \\delta r}{\\delta r/ \\delta r}}=c_r$$\n",
      "$$\\lim_{r\\rightarrow0}{\\frac{T_r}{r}=\\frac{0}{0}}\\rightarrow \\lim_{r\\rightarrow0}{\\frac{T_r}{r}}=\\lim_{r\\rightarrow0}{\\frac{\\delta T_r/ \\delta r}{\\delta r/ \\delta r}}=T_r$$\n",
      "\n",
      "\n",
      "Asi, se obtienen las ecuaciones:\n",
      "$$c_t(r=0)=-u_{max}c_z+D(c_{zz}+2c_{rr}+)-r(c,T)$$\n",
      "$$T_t(r=0)=-u_{max}T_z+\\frac{\\lambda}{\\rho c_p}(T_{zz}+2T_{rr}+)+\\frac{-\\Delta H}{\\rho c_p}r(c,t)$$"
     ]
    },
    {
     "cell_type": "code",
     "collapsed": false,
     "input": [],
     "language": "python",
     "metadata": {},
     "outputs": []
    }
   ],
   "metadata": {}
  }
 ]
}