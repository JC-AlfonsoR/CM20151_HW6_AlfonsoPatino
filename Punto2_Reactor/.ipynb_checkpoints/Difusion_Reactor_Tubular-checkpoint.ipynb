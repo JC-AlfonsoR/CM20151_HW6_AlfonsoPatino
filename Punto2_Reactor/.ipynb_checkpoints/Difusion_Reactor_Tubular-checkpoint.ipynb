{
 "cells": [
  {
   "cell_type": "markdown",
   "metadata": {},
   "source": [
    "#Difusion en Reactor Tubular\n",
    "J. Camilo Alfonso R., Carlos M. Patiño"
   ]
  },
  {
   "cell_type": "code",
   "execution_count": 50,
   "metadata": {
    "collapsed": false
   },
   "outputs": [
    {
     "name": "stdout",
     "output_type": "stream",
     "text": [
      "Populating the interactive namespace from numpy and matplotlib\n"
     ]
    }
   ],
   "source": [
    "%pylab inline\n",
    "from mpl_toolkits.mplot3d import Axes3D ##library for 3d projection plots"
   ]
  },
  {
   "cell_type": "markdown",
   "metadata": {},
   "source": [
    "Las ecuaciones que corresponden al reactor son:\n",
    "$$c_t=-u(r)c_z+D(c_{zz}+c_{rr}+\\frac{1}{r}c_r)-r(c,T)$$\n",
    "$$T_t=-u(r)T_z+\\frac{\\lambda}{\\rho c_p}(T_{zz}+T_{rr}+\\frac{1}{r}T_r)+\\frac{-\\Delta H}{\\rho c_p}r(c,t)$$"
   ]
  },
  {
   "cell_type": "markdown",
   "metadata": {},
   "source": [
    "## En el centro del reactor\n",
    "$$r=0$$\n",
    "$$u(r=0)=u_{max}\\left(1-\\left(\\frac{0}{R}\\right)^2\\right)=u_{max}$$\n",
    "Los siguientes terminos se puede recalcular usando el teorema de L'Hopital\n",
    "$$\\lim_{r\\rightarrow0}{\\frac{c_r}{r}=\\frac{0}{0}}\\rightarrow \\lim_{r\\rightarrow0}{\\frac{c_r}{r}}=\\lim_{r\\rightarrow0}{\\frac{\\delta c_r/ \\delta r}{\\delta r/ \\delta r}}=c_r$$\n",
    "$$\\lim_{r\\rightarrow0}{\\frac{T_r}{r}=\\frac{0}{0}}\\rightarrow \\lim_{r\\rightarrow0}{\\frac{T_r}{r}}=\\lim_{r\\rightarrow0}{\\frac{\\delta T_r/ \\delta r}{\\delta r/ \\delta r}}=T_r$$\n",
    "\n",
    "\n",
    "Asi, se obtienen las ecuaciones:\n",
    "$$c_t(r=0)=-u_{max}c_z+D(c_{zz}+2c_{rr}+)-r(c,T)$$\n",
    "$$T_t(r=0)=-u_{max}T_z+\\frac{\\lambda}{\\rho c_p}(T_{zz}+2T_{rr}+)+\\frac{-\\Delta H}{\\rho c_p}r(c,t)$$"
   ]
  },
  {
   "cell_type": "markdown",
   "metadata": {},
   "source": [
    "## Planteamiento Diferencias Finitas\n",
    "Las ecuaciones que corresponden al reactor son:\n",
    "$$c_t=-u(r)c_z+D(c_{zz}+c_{rr}+\\frac{1}{r}c_r)-r(c,T)$$\n",
    "$$T_t=-u(r)T_z+\\frac{\\lambda}{\\rho c_p}(T_{zz}+T_{rr}+\\frac{1}{r}T_r)+\\frac{-\\Delta H}{\\rho c_p}r(c,t)$$\n",
    "\n",
    "Sabiendo que las derivadas se pueden discretizar de la forma:\n",
    "$$u_{i,j}^{n}=u(t=n,z=i,r=j)$$\n",
    "$$\\frac{\\delta u}{\\delta t} = \\frac{u_{i,j}^{n+1}-u_{i,j}^{n}}{\\Delta t}$$\n",
    "$$\\frac{\\delta^2u}{\\delta x^2}=\\frac{u_{i+1,j}^{n}-2u_{i,j}^{n}+u_{i-1,j}^{n}}{\\Delta x^2}$$\n",
    "\n",
    "####Esquema Explicito\n",
    "Se logra obtener el esquema explicito para $c_{i,j}^{n+1}$ y $T_{i,j}^{n+1}$\n",
    "$$c_{i,j}^{n+1} = c_{i,j}^{n} -\\frac{\\Delta t}{\\Delta z}u(r)(c_{i+1,j}^{n}-c_{i,j}^{n}) + D\\Delta t \\left(\\frac{c_{i+1,j}^{n}-2c_{i,j}^{n}+c_{i-1,j}^{n}}{\\Delta z^2} + \\frac{c_{i,j+1}^{n}-2c_{i,j}^{n}+c_{i,j-1}^{n}}{\\Delta r^2} + \\frac{c_{i,j+1}^{n}-c_{i,j}^{n}}{r\\Delta r}\\right)-r\\left(c_{i,j}^{n},T_{i,j}^{n}\\right)$$\n",
    "\n",
    "$$T_{i,j}^{n+1} = T_{i,j}^{n} -\\frac{\\Delta t}{\\Delta z}u(r)(T_{i+1,j}^{n}-T_{i,j}^{n}) + \\Delta t\\frac{\\lambda}{\\rho c_p} \\left(\\frac{T_{i+1,j}^{n}-2T_{i,j}^{n}+T_{i-1,j}^{n}}{\\Delta z^2} + \\frac{T_{i,j+1}^{n}-2T_{i,j}^{n}+T_{i,j-1}^{n}}{\\Delta r^2} + \\frac{T_{i,j+1}^{n}-T_{i,j}^{n}}{r\\Delta r}\\right)+\\Delta t\\frac{-\\Delta H}{\\rho c_p}r\\left(c_{i,j}^{n},T_{i,j}^{n}\\right)$$"
   ]
  },
  {
   "cell_type": "markdown",
   "metadata": {},
   "source": [
    "####Descripcion del sistema\n",
    "Condiciones iniciales\n",
    "$$c(z,r,0)=c_0(z,r)$$\n",
    "$$T(z,r,0)=T_0(z,r)$$\n",
    "\n",
    "Simetria Radial sin Transferencia de Masa\n",
    "$$c_r(z,0,t)=\\frac{c_{i,0+1}^{n}-c_{i,0}^{n}}{\\Delta r}=0$$\n",
    "$$\\rightarrow c_{i,0}^{n}=c_{i,1}^{n}$$\n",
    "\n",
    "$$T_r(z,0,t)=\\frac{T_{j,0+1}^{n}-T_{j,0}^{n}}{\\Delta r}=0$$\n",
    "$$\\rightarrow T_{j,0}^{n}=T_{j,1}^{n}$$\n",
    "\n",
    "$$c_r(z,R,t)=\\frac{c_{j,R}^{n}-c_{j,R-1}^{n}}{\\Delta r}=0$$\n",
    "$$\\rightarrow c_{j,R}^{n}=c_{j,R-1}^{n}$$\n",
    "\n",
    "Intercambio termico con la pared\n",
    "$$T_r(z,R,t)=\\frac{T_{j,R}^{n}-T_{j,R-1}^{n}}{\\Delta r}=\\frac{h}{\\lambda}(T_w-T(z,R,t))$$\n",
    "$$\\rightarrow T_{i,R}^{n}=T_{i,R-1}^{n}+\\Delta r \\frac{h}{\\lambda}(T_w-T_{i,R}^{n})$$\n",
    "\n",
    "Concentracion y Temperatura constantes al **inicio** del tubo\n",
    "$$c(0,r,t)=c_{0,j}^{n}=c_{in}$$\n",
    "$$T(0,r,t)=T_{0,j}^{n}=T_{in}$$\n",
    "\n",
    "Difusion cero a la salida\n",
    "$$c_z(L,r,t)=\\frac{c_{L,r}^{n}-c_{L-1,r}^{n}}{\\Delta z}=0$$\n",
    "$$\\rightarrow c_{L,r}^{n} = c_{L-1,r}^{n}$$\n",
    "\n",
    "$$T_z(L,r,t)=\\frac{T_{L,i}^{n}-T_{L-1,i}^{n}}{\\Delta z}=0$$\n",
    "$$\\rightarrow T_{L,r}^{n} = T_{L-1,r}^{n}$$"
   ]
  },
  {
   "cell_type": "markdown",
   "metadata": {
    "collapsed": false
   },
   "source": [
    "##Implementacion Diferencias Finitas\n",
    "###Funciones"
   ]
  },
  {
   "cell_type": "code",
   "execution_count": 51,
   "metadata": {
    "collapsed": false
   },
   "outputs": [],
   "source": [
    "u_max = 1; # Velocidad Maxima\n",
    "R = 4;     # Radio Maximo\n",
    "def U_(r):\n",
    "    # Velocidad en funcion del radio\n",
    "    return u_max*(1-(r/R)**2)\n",
    "#Verificar funcion u(r)\n",
    "#r = linspace(-R,R,20)\n",
    "#plot(r,U_(r))\n",
    "# Funcion Verificada!\n",
    "\n",
    "k0 = 1 # parametro\n",
    "E = 1 # parametro\n",
    "def F_r(c,T):\n",
    "    return k0*exp(-E/(R*T))*c**2\n",
    "    # Verificar si el 'R' de la ecuacion es el R_max del tubo o si es R constante de los gases"
   ]
  },
  {
   "cell_type": "markdown",
   "metadata": {},
   "source": [
    "###Definir Arreglos"
   ]
  },
  {
   "cell_type": "code",
   "execution_count": 52,
   "metadata": {
    "collapsed": false
   },
   "outputs": [],
   "source": [
    "n_t = 10 # Numero de pasos en el tiempo\n",
    "t_f = 2  # tiempo final\n",
    "t = linspace(0,t_f,n_t) # vector de tiempo\n",
    "d_t = t[1]-t[0] # paso de tiempo\n",
    "\n",
    "\n",
    "n_r = 5\n",
    "r = linspace(0,R,n_r) # El radio solo se evalua en la parte psotiva porque el comportamiento de las funciones respecto \n",
    "                        # al radio es simetrico\n",
    "d_r = r[1] - r[0]\n",
    "\n",
    "\n",
    "n_z = 8\n",
    "L = 7 # Longitud del tubo\n",
    "z = linspace(0,L,n_z)\n",
    "\n",
    "zz,rr = meshgrid(z,r,sparse=False) # Malla"
   ]
  },
  {
   "cell_type": "markdown",
   "metadata": {},
   "source": [
    "###Asignar Condiciones iniciales"
   ]
  },
  {
   "cell_type": "code",
   "execution_count": 103,
   "metadata": {
    "collapsed": true
   },
   "outputs": [],
   "source": [
    "#Tener cuidado con el tamaño de los arreglos rr y zz\n",
    "def c_t0(z,r):\n",
    "    #return ones(shape(z)) # Condicion en tiempo 0\n",
    "    return z/10+r**2\n",
    "\n",
    "def T_t0(z,r):\n",
    "    #return ones(shape(z))\n",
    "    return z/10+0.5*r**3"
   ]
  },
  {
   "cell_type": "code",
   "execution_count": 104,
   "metadata": {
    "collapsed": false
   },
   "outputs": [],
   "source": [
    "# Momento Inicial\n",
    "# c y T se inicializan con las funciones dadas\n",
    "T_in = 2\n",
    "c_in = 2\n",
    "h = 1 #Parametro\n",
    "h2 = 1 #Lambda en ecuacion\n",
    "T_w = 1 #Parametro\n",
    "\n",
    "# Condicion Inicial\n",
    "c_init =  c_t0(zz,rr)\n",
    "T_init = T_t0(zz,rr)\n",
    "\n",
    "\n",
    "\n",
    "c_present = c_init.copy()\n",
    "T_present = T_init.copy()\n",
    "\n",
    "# Condiciones de Frontera\n",
    "# Simetria Radial sin trasnferencia de Masa\n",
    "c_present[0,:] = c_present[1,:]\n",
    "T_present[0,:] = T_present[1,:]\n",
    "c_present[-1,:] = c_present[-2,:]\n",
    "\n",
    "# Intercambio Termico en la pared\n",
    "T_present[-1,:] = T_present[-2,:] + d_r*h/h2*(T_w-T_present[-1,:])\n",
    "\n",
    "# Concentracion y Temperatura constantes al inicio del tubo\n",
    "c_present[:,0] = c_in\n",
    "T_present[:,0] = T_in\n",
    "\n",
    "# Difusion cero a la salida\n",
    "c_present[:,-1] = c_present[:,-2]\n",
    "T_present[:,-1] = T_present[:,-2]"
   ]
  },
  {
   "cell_type": "code",
   "execution_count": 105,
   "metadata": {
    "collapsed": false
   },
   "outputs": [
    {
     "data": {
      "text/plain": [
       "array([[ 0.,  1.,  2.,  3.,  4.,  5.,  6.,  7.],\n",
       "       [ 0.,  1.,  2.,  3.,  4.,  5.,  6.,  7.],\n",
       "       [ 0.,  1.,  2.,  3.,  4.,  5.,  6.,  7.],\n",
       "       [ 0.,  1.,  2.,  3.,  4.,  5.,  6.,  7.],\n",
       "       [ 0.,  1.,  2.,  3.,  4.,  5.,  6.,  7.]])"
      ]
     },
     "execution_count": 105,
     "metadata": {},
     "output_type": "execute_result"
    }
   ],
   "source": [
    "zz"
   ]
  },
  {
   "cell_type": "code",
   "execution_count": 106,
   "metadata": {
    "collapsed": false
   },
   "outputs": [
    {
     "data": {
      "text/plain": [
       "array([[ 0.,  0.,  0.,  0.,  0.,  0.,  0.,  0.],\n",
       "       [ 1.,  1.,  1.,  1.,  1.,  1.,  1.,  1.],\n",
       "       [ 2.,  2.,  2.,  2.,  2.,  2.,  2.,  2.],\n",
       "       [ 3.,  3.,  3.,  3.,  3.,  3.,  3.,  3.],\n",
       "       [ 4.,  4.,  4.,  4.,  4.,  4.,  4.,  4.]])"
      ]
     },
     "execution_count": 106,
     "metadata": {},
     "output_type": "execute_result"
    }
   ],
   "source": [
    "rr"
   ]
  },
  {
   "cell_type": "code",
   "execution_count": 107,
   "metadata": {
    "collapsed": false
   },
   "outputs": [
    {
     "data": {
      "text/plain": [
       "array([[ 2. ,  1.1,  1.2,  1.3,  1.4,  1.5,  1.6,  1.6],\n",
       "       [ 2. ,  1.1,  1.2,  1.3,  1.4,  1.5,  1.6,  1.6],\n",
       "       [ 2. ,  4.1,  4.2,  4.3,  4.4,  4.5,  4.6,  4.6],\n",
       "       [ 2. ,  9.1,  9.2,  9.3,  9.4,  9.5,  9.6,  9.6],\n",
       "       [ 2. ,  9.1,  9.2,  9.3,  9.4,  9.5,  9.6,  9.6]])"
      ]
     },
     "execution_count": 107,
     "metadata": {},
     "output_type": "execute_result"
    }
   ],
   "source": [
    "c_present"
   ]
  },
  {
   "cell_type": "code",
   "execution_count": 108,
   "metadata": {
    "collapsed": false
   },
   "outputs": [
    {
     "data": {
      "text/plain": [
       "array([[  2. ,   0.6,   0.7,   0.8,   0.9,   1. ,   1.1,   1.1],\n",
       "       [  2. ,   0.6,   0.7,   0.8,   0.9,   1. ,   1.1,   1.1],\n",
       "       [  2. ,   4.1,   4.2,   4.3,   4.4,   4.5,   4.6,   4.6],\n",
       "       [  2. ,  13.6,  13.7,  13.8,  13.9,  14. ,  14.1,  14.1],\n",
       "       [  2. , -17.5, -17.5, -17.5, -17.5, -17.5, -17.5, -17.5]])"
      ]
     },
     "execution_count": 108,
     "metadata": {},
     "output_type": "execute_result"
    }
   ],
   "source": [
    "T_present"
   ]
  },
  {
   "cell_type": "code",
   "execution_count": null,
   "metadata": {
    "collapsed": true
   },
   "outputs": [],
   "source": []
  }
 ],
 "metadata": {
  "kernelspec": {
   "display_name": "Python 3",
   "language": "python",
   "name": "python3"
  },
  "language_info": {
   "codemirror_mode": {
    "name": "ipython",
    "version": 3
   },
   "file_extension": ".py",
   "mimetype": "text/x-python",
   "name": "python",
   "nbconvert_exporter": "python",
   "pygments_lexer": "ipython3",
   "version": "3.4.3"
  }
 },
 "nbformat": 4,
 "nbformat_minor": 0
}
